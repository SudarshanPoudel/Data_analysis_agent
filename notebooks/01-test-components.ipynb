{
 "cells": [
  {
   "cell_type": "markdown",
   "metadata": {},
   "source": [
    "# Test the components individually"
   ]
  },
  {
   "cell_type": "code",
   "execution_count": 1,
   "metadata": {},
   "outputs": [],
   "source": [
    "import warnings\n",
    "warnings.filterwarnings(\"ignore\")"
   ]
  },
  {
   "cell_type": "code",
   "execution_count": 2,
   "metadata": {},
   "outputs": [],
   "source": [
    "import os\n",
    "import sys\n",
    "\n",
    "current_path = os.getcwd()  # Current working directory\n",
    "root_path = os.path.abspath(os.path.join(current_path, os.pardir))\n",
    "sys.path.append(root_path)"
   ]
  },
  {
   "cell_type": "code",
   "execution_count": 3,
   "metadata": {},
   "outputs": [],
   "source": [
    "data_path = os.path.join(root_path, \"data\", \"housing.csv\")"
   ]
  },
  {
   "cell_type": "markdown",
   "metadata": {},
   "source": [
    "---"
   ]
  },
  {
   "cell_type": "markdown",
   "metadata": {},
   "source": [
    "## Summarization node"
   ]
  },
  {
   "cell_type": "code",
   "execution_count": 4,
   "metadata": {},
   "outputs": [],
   "source": [
    "from src.nodes.summarization_node import summarization_node"
   ]
  },
  {
   "cell_type": "code",
   "execution_count": 5,
   "metadata": {},
   "outputs": [
    {
     "name": "stdout",
     "output_type": "stream",
     "text": [
      "====== SUMMARIZATION NODE ======\n"
     ]
    }
   ],
   "source": [
    "state = {\"data_path\": data_path, \"metadata\": \"\"}\n",
    "summarization_node(state)\n",
    "summary = state[\"data_summary\"]"
   ]
  },
  {
   "cell_type": "code",
   "execution_count": 6,
   "metadata": {},
   "outputs": [
    {
     "name": "stdout",
     "output_type": "stream",
     "text": [
      "# House Price Dataset\n",
      "\n",
      "- **Number of Rows**: 545\n",
      "\n",
      "## Column: `price`\n",
      "- **Data Type**: int64\n",
      "- **Range**: 1750000 to 13300000\n",
      "- **Null values**: 0\n",
      "- **Example Values**: [13300000, 12250000, 12250000, 12215000, 11410000]\n",
      "- **Description**: Price of the house in some currency.\n",
      "\n",
      "\n",
      "## Column: `area`\n",
      "- **Data Type**: int64\n",
      "- **Range**: 1650 to 16200\n",
      "- **Null values**: 0\n",
      "- **Example Values**: [7420, 8960, 9960, 7500, 7420]\n",
      "- **Description**: Area of the house in some unit.\n",
      "\n",
      "\n",
      "## Column: `bedrooms`\n",
      "- **Data Type**: int64\n",
      "- **Range**: 1 to 6\n",
      "- **Null values**: 0\n",
      "- **Example Values**: [4, 4, 3, 4, 4]\n",
      "- **Description**: Number of bedrooms in the house.\n",
      "\n",
      "\n",
      "## Column: `bathrooms`\n",
      "- **Data Type**: int64\n",
      "- **Range**: 1 to 4\n",
      "- **Null values**: 0\n",
      "- **Example Values**: [2, 4, 2, 2, 1]\n",
      "- **Description**: Number of bathrooms in the house.\n",
      "\n",
      "\n",
      "## Column: `stories`\n",
      "- **Data Type**: int64\n",
      "- **Range**: 1 to 4\n",
      "- **Null values**: 0\n",
      "- **Example Values**: [3, 4, 2, 2, 2]\n",
      "- **Description**: Number of stories in the house.\n",
      "\n",
      "\n",
      "## Column: `mainroad`\n",
      "- **Data Type**: object\n",
      "- **Unique values**: 2\n",
      "- **Null values**: 0\n",
      "- **Example Values**: [\"yes\", \"yes\", \"yes\", \"yes\", \"yes\"]\n",
      "- **Description**: Indicates whether the house is on the main road.\n",
      "\n",
      "\n",
      "## Column: `guestroom`\n",
      "- **Data Type**: object\n",
      "- **Unique values**: 2\n",
      "- **Null values**: 0\n",
      "- **Example Values**: [\"no\", \"no\", \"no\", \"no\", \"yes\"]\n",
      "- **Description**: Indicates whether the house has a guest room.\n",
      "\n",
      "\n",
      "## Column: `basement`\n",
      "- **Data Type**: object\n",
      "- **Unique values**: 2\n",
      "- **Null values**: 0\n",
      "- **Example Values**: [\"no\", \"no\", \"yes\", \"yes\", \"yes\"]\n",
      "- **Description**: Indicates whether the house has a basement.\n",
      "\n",
      "\n",
      "## Column: `hotwaterheating`\n",
      "- **Data Type**: object\n",
      "- **Unique values**: 2\n",
      "- **Null values**: 0\n",
      "- **Example Values**: [\"no\", \"no\", \"no\", \"no\", \"no\"]\n",
      "- **Description**: Indicates whether the house has hot water heating.\n",
      "\n",
      "\n",
      "## Column: `airconditioning`\n",
      "- **Data Type**: object\n",
      "- **Unique values**: 2\n",
      "- **Null values**: 0\n",
      "- **Example Values**: [\"yes\", \"yes\", \"no\", \"yes\", \"yes\"]\n",
      "- **Description**: Indicates whether the house has air conditioning.\n",
      "\n",
      "\n",
      "## Column: `parking`\n",
      "- **Data Type**: int64\n",
      "- **Range**: 0 to 3\n",
      "- **Null values**: 0\n",
      "- **Example Values**: [2, 3, 2, 3, 2]\n",
      "- **Description**: Number of parking spaces available.\n",
      "\n",
      "\n",
      "## Column: `prefarea`\n",
      "- **Data Type**: object\n",
      "- **Unique values**: 2\n",
      "- **Null values**: 0\n",
      "- **Example Values**: [\"yes\", \"no\", \"yes\", \"yes\", \"no\"]\n",
      "- **Description**: Indicates whether the house is in a preferred area.\n",
      "\n",
      "\n",
      "## Column: `furnishingstatus`\n",
      "- **Data Type**: object\n",
      "- **Unique values**: 3\n",
      "- **Null values**: 0\n",
      "- **Example Values**: [\"furnished\", \"furnished\", \"semi-furnished\", \"furnished\", \"furnished\"]\n",
      "- **Description**: Furnishing status of the house.\n"
     ]
    }
   ],
   "source": [
    "print(state[\"data_summary\"])"
   ]
  },
  {
   "cell_type": "markdown",
   "metadata": {},
   "source": [
    "---"
   ]
  },
  {
   "cell_type": "markdown",
   "metadata": {},
   "source": [
    "## Grading user query relevance to the dataset"
   ]
  },
  {
   "cell_type": "code",
   "execution_count": 7,
   "metadata": {},
   "outputs": [],
   "source": [
    "from src.nodes.grade_user_query import grade_query"
   ]
  },
  {
   "cell_type": "code",
   "execution_count": 8,
   "metadata": {},
   "outputs": [
    {
     "name": "stdout",
     "output_type": "stream",
     "text": [
      "====== CHECK USER QUERY RELEVANCE ======\n",
      "====== GRADE: USER QUERY RELEVANT ======\n",
      "yes\n"
     ]
    }
   ],
   "source": [
    "query = \"Which is the most expensive housing area?\"\n",
    "\n",
    "state.update({\"query\": query})\n",
    "grade_query(state)\n",
    "print(state[\"related_to_data\"])"
   ]
  },
  {
   "cell_type": "code",
   "execution_count": 9,
   "metadata": {},
   "outputs": [
    {
     "name": "stdout",
     "output_type": "stream",
     "text": [
      "====== CHECK USER QUERY RELEVANCE ======\n",
      "====== GRADE: USER QUERY NOT RELEVANT ======\n",
      "no\n"
     ]
    }
   ],
   "source": [
    "query = \"Which is the most expensive airport?\"\n",
    "\n",
    "state.update({\"query\": query})\n",
    "grade_query(state)\n",
    "print(state[\"related_to_data\"])"
   ]
  },
  {
   "cell_type": "markdown",
   "metadata": {},
   "source": [
    "---"
   ]
  },
  {
   "cell_type": "markdown",
   "metadata": {},
   "source": [
    "## Grading if visualization is required or not for the user query"
   ]
  },
  {
   "cell_type": "code",
   "execution_count": 10,
   "metadata": {},
   "outputs": [],
   "source": [
    "from src.nodes.grade_visualization_requirement import grade_visualization_requirement"
   ]
  },
  {
   "cell_type": "code",
   "execution_count": 11,
   "metadata": {},
   "outputs": [
    {
     "name": "stdout",
     "output_type": "stream",
     "text": [
      "====== CHECK VISUALIZATION REQUIREMENT ======\n",
      "====== GRADE: USER QUERY DOES NOT REQUIRE VISUALIZATION ======\n",
      "no\n"
     ]
    }
   ],
   "source": [
    "query = \"Which is the most expensive housing area?\"\n",
    "\n",
    "state = {\"data_summary\": summary, \"query\": query}\n",
    "\n",
    "grade_visualization_requirement(state)\n",
    "print(state[\"requires_visualization\"])"
   ]
  },
  {
   "cell_type": "code",
   "execution_count": 12,
   "metadata": {},
   "outputs": [
    {
     "name": "stdout",
     "output_type": "stream",
     "text": [
      "====== CHECK VISUALIZATION REQUIREMENT ======\n",
      "====== GRADE: USER QUERY REQUIRES VISUALIZATION ======\n",
      "yes\n"
     ]
    }
   ],
   "source": [
    "query = \"What is the distribution of the housing prices?\"\n",
    "\n",
    "state = {\"data_summary\": summary, \"query\": query}\n",
    "\n",
    "grade_visualization_requirement(state)\n",
    "print(state[\"requires_visualization\"])"
   ]
  },
  {
   "cell_type": "markdown",
   "metadata": {},
   "source": [
    "---"
   ]
  },
  {
   "cell_type": "markdown",
   "metadata": {},
   "source": [
    "## Code Agent\n",
    "\n",
    "It answers the user query using code (and no visualizations)"
   ]
  },
  {
   "cell_type": "code",
   "execution_count": 25,
   "metadata": {},
   "outputs": [],
   "source": [
    "from src.nodes.data_query_node import data_query_node"
   ]
  },
  {
   "cell_type": "code",
   "execution_count": 26,
   "metadata": {},
   "outputs": [],
   "source": [
    "state = {\n",
    "    \"data_summary\": summary,\n",
    "    \"query\": \"Which is the most expensive housing area?\",\n",
    "    \"data_path\": data_path,\n",
    "}"
   ]
  },
  {
   "cell_type": "code",
   "execution_count": 27,
   "metadata": {},
   "outputs": [
    {
     "name": "stdout",
     "output_type": "stream",
     "text": [
      "====== DATA QUERY NODE ======\n",
      "Generation:\n",
      "{'answer': \"Based on the average house price, the most expensive area is indicated by 'yes' in the 'prefarea' column.\", 'charts': []}\n"
     ]
    },
    {
     "data": {
      "text/plain": [
       "{'generation': {'answer': \"Based on the average house price, the most expensive area is indicated by 'yes' in the 'prefarea' column.\",\n",
       "  'charts': []}}"
      ]
     },
     "execution_count": 27,
     "metadata": {},
     "output_type": "execute_result"
    }
   ],
   "source": [
    "data_query_node(state)"
   ]
  },
  {
   "cell_type": "code",
   "execution_count": 28,
   "metadata": {},
   "outputs": [
    {
     "name": "stdout",
     "output_type": "stream",
     "text": [
      "{'answer': \"Based on the average house price, the most expensive area is indicated by 'yes' in the 'prefarea' column.\", 'charts': []}\n"
     ]
    }
   ],
   "source": [
    "print(state[\"generation\"])"
   ]
  },
  {
   "cell_type": "markdown",
   "metadata": {},
   "source": [
    "---"
   ]
  },
  {
   "cell_type": "markdown",
   "metadata": {},
   "source": [
    "## Chart Node"
   ]
  },
  {
   "cell_type": "code",
   "execution_count": 17,
   "metadata": {},
   "outputs": [],
   "source": [
    "from src.nodes.chart_node import chart_node"
   ]
  },
  {
   "cell_type": "code",
   "execution_count": 18,
   "metadata": {},
   "outputs": [],
   "source": [
    "state = {\n",
    "    \"data_summary\": summary,\n",
    "    \"query\": \"What is the relation price and other features?\",\n",
    "    \"data_path\": data_path,\n",
    "}"
   ]
  },
  {
   "cell_type": "code",
   "execution_count": 19,
   "metadata": {},
   "outputs": [
    {
     "name": "stdout",
     "output_type": "stream",
     "text": [
      "====== CHART NODE ======\n"
     ]
    },
    {
     "data": {
      "text/plain": [
       "{'generation': {'answer': \"Analysis of House Price vs. Features:\\n\\nBased on the generated visualizations:\\n\\n**Numerical Features:**\\n- **Area:** A strong positive correlation is observed between price and area. As the area increases, the price tends to increase.\\n- **Bedrooms:** A positive correlation exists, but it's not as strong as the area. More bedrooms generally mean higher prices, but the relationship is less linear.\\n- **Bathrooms:** Similar to bedrooms, a positive correlation is seen, indicating that more bathrooms are associated with higher prices.\\n- **Stories:**  A positive correlation is present; houses with more stories tend to be more expensive.\\n- **Parking:** A positive correlation is observed; more parking spaces are associated with higher prices.\\n\\n**Categorical Features:**\\nThe box plots show the price distribution for each category.  Significant differences in median prices across categories suggest that these features also influence house prices.  For example, houses on the main road ('mainroad' = 'yes') tend to be more expensive than those not on the main road.  Similarly, the presence of a guest room, basement, air conditioning, and location in a preferred area ('prefarea' = 'yes') are associated with higher prices.  Furnishing status also shows some price variation, with furnished houses generally commanding higher prices than semi-furnished or unfurnished ones.\",\n",
       "  'charts': []}}"
      ]
     },
     "execution_count": 19,
     "metadata": {},
     "output_type": "execute_result"
    }
   ],
   "source": [
    "chart_node(state)"
   ]
  },
  {
   "cell_type": "code",
   "execution_count": 20,
   "metadata": {},
   "outputs": [
    {
     "name": "stdout",
     "output_type": "stream",
     "text": [
      "{'answer': \"Analysis of House Price vs. Features:\\n\\nBased on the generated visualizations:\\n\\n**Numerical Features:**\\n- **Area:** A strong positive correlation is observed between price and area. As the area increases, the price tends to increase.\\n- **Bedrooms:** A positive correlation exists, but it's not as strong as the area. More bedrooms generally mean higher prices, but the relationship is less linear.\\n- **Bathrooms:** Similar to bedrooms, a positive correlation is seen, indicating that more bathrooms are associated with higher prices.\\n- **Stories:**  A positive correlation is present; houses with more stories tend to be more expensive.\\n- **Parking:** A positive correlation is observed; more parking spaces are associated with higher prices.\\n\\n**Categorical Features:**\\nThe box plots show the price distribution for each category.  Significant differences in median prices across categories suggest that these features also influence house prices.  For example, houses on the main road ('mainroad' = 'yes') tend to be more expensive than those not on the main road.  Similarly, the presence of a guest room, basement, air conditioning, and location in a preferred area ('prefarea' = 'yes') are associated with higher prices.  Furnishing status also shows some price variation, with furnished houses generally commanding higher prices than semi-furnished or unfurnished ones.\", 'charts': []}\n"
     ]
    }
   ],
   "source": [
    "print(state[\"generation\"])"
   ]
  },
  {
   "cell_type": "markdown",
   "metadata": {},
   "source": [
    "---"
   ]
  },
  {
   "cell_type": "markdown",
   "metadata": {},
   "source": [
    "## Transform query"
   ]
  },
  {
   "cell_type": "code",
   "execution_count": 21,
   "metadata": {},
   "outputs": [],
   "source": [
    "from src.nodes.transform_query import transform_query"
   ]
  },
  {
   "cell_type": "code",
   "execution_count": 22,
   "metadata": {},
   "outputs": [],
   "source": [
    "state = {\"query\": \"Which is the most expensive huse area?\"}"
   ]
  },
  {
   "cell_type": "code",
   "execution_count": 23,
   "metadata": {},
   "outputs": [
    {
     "name": "stdout",
     "output_type": "stream",
     "text": [
      "====== TRANSFORM QUERY ======\n"
     ]
    },
    {
     "data": {
      "text/plain": [
       "{'query': 'What is the most expensive housing area?'}"
      ]
     },
     "execution_count": 23,
     "metadata": {},
     "output_type": "execute_result"
    }
   ],
   "source": [
    "transform_query(state)"
   ]
  },
  {
   "cell_type": "markdown",
   "metadata": {},
   "source": [
    "---"
   ]
  }
 ],
 "metadata": {
  "kernelspec": {
   "display_name": "data-analysis-system-HL2bOYby-py3.12",
   "language": "python",
   "name": "python3"
  },
  "language_info": {
   "codemirror_mode": {
    "name": "ipython",
    "version": 3
   },
   "file_extension": ".py",
   "mimetype": "text/x-python",
   "name": "python",
   "nbconvert_exporter": "python",
   "pygments_lexer": "ipython3",
   "version": "3.12.4"
  }
 },
 "nbformat": 4,
 "nbformat_minor": 2
}
